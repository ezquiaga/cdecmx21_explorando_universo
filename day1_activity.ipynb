{
 "cells": [
  {
   "cell_type": "markdown",
   "metadata": {},
   "source": [
    "# Clubes de Ciencia México 2021\n",
    "## 13,800 millones de años de viaje, la historia de nuestro universo\n",
    "\n",
    "*Instructores:* \n",
    "\n",
    "Jose María Ezquiaga (University of Chicago, ezquiaga@uchicago.edu)\n",
    "\n",
    "Miriam Gudino (UNAM, miriamegy@gmail.com)\n",
    "\n",
    "Gabriel Missael Barco (TA, Universidad de Guanajuato, missaelgabo@gmail.com)\n",
    "\n",
    "---"
   ]
  },
  {
   "cell_type": "markdown",
   "metadata": {},
   "source": [
    "## Actividad 1: Nuestro universo en números\n",
    "\n",
    "En nuestra primera clase del club de ciencia hemos hecho una introducción a la cosmología moderna. En esta actividad vamos a poner algunos números en nuestra cabeza.\n",
    "\n",
    "<img src='https://www.nasa.gov/sites/default/files/images/736107main_pia16876b_full.jpg' alt='Alt text' title='Title text' />"
   ]
  },
  {
   "cell_type": "markdown",
   "metadata": {},
   "source": [
    "Para hacer los cálculos básicos puedes utilizar numpy"
   ]
  },
  {
   "cell_type": "code",
   "execution_count": 2,
   "metadata": {},
   "outputs": [],
   "source": [
    "import numpy as np"
   ]
  },
  {
   "cell_type": "code",
   "execution_count": 3,
   "metadata": {},
   "outputs": [
    {
     "name": "stdout",
     "output_type": "stream",
     "text": [
      "Resultado x*y =  24\n"
     ]
    }
   ],
   "source": [
    "x = 3\n",
    "y = 8\n",
    "print('Resultado x*y = ', x*y)"
   ]
  },
  {
   "cell_type": "markdown",
   "metadata": {},
   "source": [
    "## ¿Cuál es la distancia más lejana que podemos observar?\n",
    "\n",
    "Sabiendo que la edad del universo son $\\sim13800$ millones de años y que la velocidad de la luz son 300000 km/s, ¿cuál es la distancia más lejana que podemos observar?\n",
    "\n",
    "*Nota:* expresar el resultado en Megaparsec (1Mpc = $3\\times10^{22}$m)"
   ]
  },
  {
   "cell_type": "code",
   "execution_count": null,
   "metadata": {},
   "outputs": [],
   "source": []
  },
  {
   "cell_type": "markdown",
   "metadata": {},
   "source": [
    "## ¿Cuál es la densidad del universo?\n",
    "\n",
    "La densidad de energía crítica del universo está dada por\n",
    "\n",
    "\\begin{equation}\n",
    "\\rho_c \\sim \\frac{3H_0^2}{8\\pi G}\n",
    "\\end{equation}\n",
    "\n",
    "donde $H_0\\sim 2\\times10^{-18}\\mathrm{s}^{-1}$ es la constante de Hubble y $G=6.67\\times10^{-11}\\mathrm{m}^3\\mathrm{kg}^{-1}\\mathrm{s}^{-2}$ la constante de Newton. \n",
    "\n",
    "Sabiendo que la materia ordinaria constituye $\\sim5\\%$ de la densidad total hoy en día, calcular la densidad del universo en número de átomos de higrógeno por $\\mathrm{m}^3$ (masa $\\sim1.6\\times10^{-27}$kg). \n",
    "\n",
    "*Nota:* para más detalle sobre como derivar esta fórmula [http://ned.ipac.caltech.edu/level5/Sept03/Trodden/Trodden2_2.html]"
   ]
  },
  {
   "cell_type": "code",
   "execution_count": null,
   "metadata": {},
   "outputs": [],
   "source": []
  },
  {
   "cell_type": "markdown",
   "metadata": {},
   "source": [
    "## Bonus: ¿Cúantas estrellas hay en el universo?\n",
    "\n",
    "Asumir que toda la materia ordinaria está en forma de estrellas. Hacer el cálculo en función de la masa del Sol."
   ]
  },
  {
   "cell_type": "markdown",
   "metadata": {},
   "source": [
    "---"
   ]
  },
  {
   "cell_type": "markdown",
   "metadata": {},
   "source": [
    "## Cosmology in python? \n",
    "\n",
    "Use [astropy](https://docs.astropy.org/en/stable/cosmology/index.html)!!"
   ]
  },
  {
   "cell_type": "markdown",
   "metadata": {},
   "source": [
    "## How can you learn more about GWs?\n",
    "\n",
    "The [GW-Open Science center](https://www.gw-openscience.org/about/) has a lot of great resources, including tutorials that will let you [discovery GWs on your own](https://www.gw-openscience.org/GW150914data/GW150914_tutorial.html)."
   ]
  },
  {
   "cell_type": "code",
   "execution_count": null,
   "metadata": {},
   "outputs": [],
   "source": []
  }
 ],
 "metadata": {
  "kernelspec": {
   "display_name": "Python (gws_env)",
   "language": "python",
   "name": "gws_env"
  },
  "language_info": {
   "codemirror_mode": {
    "name": "ipython",
    "version": 3
   },
   "file_extension": ".py",
   "mimetype": "text/x-python",
   "name": "python",
   "nbconvert_exporter": "python",
   "pygments_lexer": "ipython3",
   "version": "3.8.0"
  }
 },
 "nbformat": 4,
 "nbformat_minor": 2
}
